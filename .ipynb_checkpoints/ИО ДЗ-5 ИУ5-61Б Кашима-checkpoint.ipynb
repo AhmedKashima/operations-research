{
 "cells": [
  {
   "cell_type": "markdown",
   "id": "intro",
   "metadata": {},
   "source": [
    "# Решение задачи линейного программирования\n",
    "\n",
    "Данный ноутбук демонстрирует пошаговое решение классической задачи линейного программирования (ЗЛП) с использованием двухфазного симплекс-метода: сначала метод искусственного базиса для поиска начального допустимого базисного решения (ДБР), а затем стандартный симплекс-метод для поиска оптимального решения.\n",
    "\n",
    "## Условие задачи\n",
    "Найти минимальное возможное значение целевой функции:\n",
    "\n",
    "$$f = 10x_1 - 3x_2 + x_3 + 5x_4 + 2x_5$$\n",
    "\n",
    "при ограничениях-равенствах и неотрицательности переменных:\n",
    "\n",
    "$$\n",
    "\\begin{cases}\n",
    "  -x_1 + 4x_2 - x_3 + 13x_4 + 16x_5 = -1 \\\\\n",
    "  -10x_1 + 12x_2 + 20x_3 + 23x_4 = -8 \\\\\n",
    "  x_1, x_2, x_3, x_4, x_5 \\geq 0\n",
    "\\end{cases}\n",
    "$$\n",
    "\n",
    "## Метод решения\n",
    "1.  **Фаза 1:** Метод искусственного базиса для нахождения начального допустимого базисного решения.\n",
    "2.  **Фаза 2:** Стандартный симплекс-метод (часто называемый модифицированным симплекс-методом при работе с таблицами, полученными после Фазы 1) для поиска оптимального решения, начиная с базиса, найденного в Фазе 1.\n",
    "\n",
    "Будут выведены последовательные симплекс-таблицы, информация о базисных и небазисных переменных, угловые точки на каждой итерации и, наконец, координаты итоговой оптимальной угловой точки и значение целевой функции в ней."
   ]
  },
  {
   "cell_type": "code",
   "execution_count": 5,
   "id": "5f15535d",
   "metadata": {},
   "outputs": [
    {
     "name": "stdout",
     "output_type": "stream",
     "text": [
      "Requirement already satisfied: numpy in /home/ahmedkashima/venv/lib/python3.12/site-packages (1.26.4)\n",
      "Requirement already satisfied: pandas in /home/ahmedkashima/venv/lib/python3.12/site-packages (2.2.3)\n",
      "Requirement already satisfied: ipython in /home/ahmedkashima/venv/lib/python3.12/site-packages (9.2.0)\n",
      "Requirement already satisfied: python-dateutil>=2.8.2 in /home/ahmedkashima/venv/lib/python3.12/site-packages (from pandas) (2.9.0.post0)\n",
      "Requirement already satisfied: pytz>=2020.1 in /home/ahmedkashima/venv/lib/python3.12/site-packages (from pandas) (2025.2)\n",
      "Requirement already satisfied: tzdata>=2022.7 in /home/ahmedkashima/venv/lib/python3.12/site-packages (from pandas) (2025.2)\n",
      "Requirement already satisfied: decorator in /home/ahmedkashima/venv/lib/python3.12/site-packages (from ipython) (5.2.1)\n",
      "Requirement already satisfied: ipython-pygments-lexers in /home/ahmedkashima/venv/lib/python3.12/site-packages (from ipython) (1.1.1)\n",
      "Requirement already satisfied: jedi>=0.16 in /home/ahmedkashima/venv/lib/python3.12/site-packages (from ipython) (0.19.2)\n",
      "Requirement already satisfied: matplotlib-inline in /home/ahmedkashima/venv/lib/python3.12/site-packages (from ipython) (0.1.7)\n",
      "Requirement already satisfied: pexpect>4.3 in /home/ahmedkashima/venv/lib/python3.12/site-packages (from ipython) (4.9.0)\n",
      "Requirement already satisfied: prompt_toolkit<3.1.0,>=3.0.41 in /home/ahmedkashima/venv/lib/python3.12/site-packages (from ipython) (3.0.51)\n",
      "Requirement already satisfied: pygments>=2.4.0 in /home/ahmedkashima/venv/lib/python3.12/site-packages (from ipython) (2.19.1)\n",
      "Requirement already satisfied: stack_data in /home/ahmedkashima/venv/lib/python3.12/site-packages (from ipython) (0.6.3)\n",
      "Requirement already satisfied: traitlets>=5.13.0 in /home/ahmedkashima/venv/lib/python3.12/site-packages (from ipython) (5.14.3)\n",
      "Requirement already satisfied: wcwidth in /home/ahmedkashima/venv/lib/python3.12/site-packages (from prompt_toolkit<3.1.0,>=3.0.41->ipython) (0.2.13)\n",
      "Requirement already satisfied: parso<0.9.0,>=0.8.4 in /home/ahmedkashima/venv/lib/python3.12/site-packages (from jedi>=0.16->ipython) (0.8.4)\n",
      "Requirement already satisfied: ptyprocess>=0.5 in /home/ahmedkashima/venv/lib/python3.12/site-packages (from pexpect>4.3->ipython) (0.7.0)\n",
      "Requirement already satisfied: six>=1.5 in /home/ahmedkashima/venv/lib/python3.12/site-packages (from python-dateutil>=2.8.2->pandas) (1.17.0)\n",
      "Requirement already satisfied: executing>=1.2.0 in /home/ahmedkashima/venv/lib/python3.12/site-packages (from stack_data->ipython) (2.2.0)\n",
      "Requirement already satisfied: asttokens>=2.1.0 in /home/ahmedkashima/venv/lib/python3.12/site-packages (from stack_data->ipython) (3.0.0)\n",
      "Requirement already satisfied: pure-eval in /home/ahmedkashima/venv/lib/python3.12/site-packages (from stack_data->ipython) (0.2.3)\n"
     ]
    }
   ],
   "source": [
    "!pip install numpy pandas ipython"
   ]
  },
  {
   "cell_type": "code",
   "execution_count": 6,
   "id": "imports",
   "metadata": {},
   "outputs": [
    {
     "name": "stdout",
     "output_type": "stream",
     "text": [
      "3.4.2\n"
     ]
    }
   ],
   "source": [
    "# Импортируем необходимые библиотеки\n",
    "import sys\n",
    "sys.path.append(\"/home/ahmedkashima/venv/lib/python3.12/site-packages\")\n",
    "import networkx as nx\n",
    "print(nx.__version__)\n",
    "import numpy as np\n",
    "import numpy as np\n",
    "import pandas as pd\n",
    "from IPython.display import display, Markdown\n",
    "\n",
    "# Устанавливаем опции для лучшего отображения чисел в pandas и numpy (особенно для нулей около 0)\n",
    "pd.set_option('display.float_format', '{:.6f}'.format)\n",
    "np.set_printoptions(formatter={'float': '{:.6f}'.format}, suppress=True)"
   ]
  },
  {
   "cell_type": "markdown",
   "id": "problem_def",
   "metadata": {},
   "source": [
    "## Определение задачи в коде\n",
    "\n",
    "Зададим матрицу ограничений $A$, вектор правых частей $b$ и вектор коэффициентов целевой функции $c$."
   ]
  },
  {
   "cell_type": "code",
   "execution_count": 7,
   "id": "define_arrays",
   "metadata": {},
   "outputs": [],
   "source": [
    "# Матрица ограничений A\n",
    "A = np.array([\n",
    "    [-1,  4, -1, 13, 16],  # First constraint: -x1 + 4x2 - x3 + 13x4 + 16x5 = -1\n",
    "    [-10, 12, 20, 23,  0]   # Second constraint: -10x1 + 12x2 + 20x3 + 23x4 = -8\n",
    "])\n",
    "\n",
    "# Right-hand side vector b\n",
    "b = np.array([-1, -8])\n",
    "\n",
    "# Original objective function coefficients (for minimization)\n",
    "c_real = np.array([10, -3, 1, 5, 2])\n",
    "\n",
    "# Problem dimensions\n",
    "n_original_vars = A.shape[1]  # Number of variables (5)\n",
    "n_constraints = A.shape[0]     # Number of equality constraints (2)\n"
   ]
  },
  {
   "cell_type": "markdown",
   "id": "pre_analysis",
   "metadata": {},
   "source": [
    "## Предварительный анализ допустимого множества\n",
    "\n",
    "Перед применением симплекс-метода, полезно проанализировать ограничения.\n",
    "\n",
    "Рассмотрим систему ограничений-равенств с учетом неотрицательности переменных $x_i \\ge 0$:\n",
    "\n",
    "$$\n",
    "\\begin{cases}\n",
    "  -x_1 + 4x_2 - x_3 + 13x_4 + 16x_5 = -1 \\\\\n",
    "  -10x_1 + 12x_2 + 20x_3 + 23x_4 = -8 \\\\\n",
    "  x_1, x_2, x_3, x_4, x_5 \\geq 0\n",
    "\\end{cases}\n",
    "$$\n",
    "\n",
    "В отличие от предыдущей задачи, здесь ограничения-равенства не приводят к немедленному определению значений некоторых переменных из-за знаков коэффициентов и ненулевых правых частей.\n",
    "\n",
    "Первое уравнение имеет положительную правую часть (5), и при неотрицательности переменных, по крайней мере некоторые переменные с положительными коэффициентами ($x_2, x_4, x_5$) или переменная $x_1$ с отрицательным коэффициентом должны быть больше нуля для его выполнения.\n",
    "\n",
    "Второе уравнение имеет отрицательную правую часть (-5). При неотрицательности переменных, для его выполнения, по крайней мере переменная $x_3$ с отрицательным коэффициентом или переменные с положительными коэффициентами ($x_1, x_2, x_4, x_5$) должны принимать соответствующие значения.\n",
    "\n",
    "Аналитическое определение допустимого базисного решения или заключение о том, что допустимое множество состоит из единственной точки, **не является тривиальным** на основе простого осмотра уравнений и ограничений неотрицательности. Необходим систематический подход для поиска начального допустимого базисного решения.\n",
    "\n",
    "Таким образом, двухфазный симплекс-метод с использованием искусственных переменных на Фазе 1 является подходящим инструментом для определения наличия допустимых решений и, если они существуют, для перехода к Фазе 2 для поиска оптимального решения."
   ]
  },
  {
   "cell_type": "code",
   "execution_count": 8,
   "id": "helper_functions",
   "metadata": {},
   "outputs": [],
   "source": [
    "# --- Вспомогательные функции для симплекс-метода ---\n",
    "\n",
    "# Функция для печати симплекс-таблицы с дополнительной информацией\n",
    "def print_simplex_table(table, basis, c_costs, phase):\n",
    "    \"\"\"\n",
    "    Печатает текущую симплекс-таблицу, cj-zj строку и текущее значение целевой функции.\n",
    "    table: numpy array, текущая симплекс-таблица (включая столбец b)\n",
    "    basis: list of ints, индексы переменных в базисе (индекс строки -> индекс столбца переменной)\n",
    "    c_costs: numpy array, коэффициенты целевой функции для текущей фазы\n",
    "    phase: int, номер фазы (1 или 2)\n",
    "    \"\"\"\n",
    "    n_cols = table.shape[1] # Количество столбцов (переменные + b)\n",
    "    n_rows = table.shape[0] # Количество строк (ограничения)\n",
    "\n",
    "    # Создаем заголовки столбцов (x1, x2, ..., b)\n",
    "    # Учитываем, что в Фазе 1 больше столбцов (добавляются искусственные)\n",
    "    # Искусственные переменные нумеруются после исходных: x6, x7 и т.д.\n",
    "    if phase == 1:\n",
    "        header = [f\"x{i+1}\" for i in range(n_original_vars)] + [f\"a{i+1}\" for i in range(n_constraints)] + [\"b\"]\n",
    "        # Косты для Фазы 1 должны соответствовать заголовкам без столбца 'b'\n",
    "        c_current_phase_display = c_costs # В Фазе 1 c_artificial уже имеет правильную размерность\n",
    "    else:\n",
    "        header = [f\"x{i+1}\" for i in range(n_original_vars)] + [\"b\"]\n",
    "         # Косты для Фазы 2 должны соответствовать заголовкам без столбца 'b'\n",
    "        c_current_phase_display = c_costs # В Фазе 2 c_real уже имеет правильную размерность\n",
    "\n",
    "\n",
    "    # Создаем DataFrame для отображения таблицы\n",
    "    # Проверяем, что количество столбцов в таблице соответствует количеству заголовков\n",
    "    if table.shape[1] != len(header):\n",
    "         # Это может произойти, если table - это таблица Фазы 2, но мы используем заголовок Фазы 1\n",
    "         # Пересоздаем заголовок для Фазы 2, если это необходимо\n",
    "         if phase == 2:\n",
    "             header = [f\"x{i+1}\" for i in range(n_original_vars)] + [\"b\"]\n",
    "\n",
    "    df = pd.DataFrame(table, columns=header)\n",
    "    # Присваиваем метки строкам в соответствии с базисными переменными\n",
    "    # Используем 'a' для искусственных переменных, если они в базисе в Фазе 1\n",
    "    basis_labels = []\n",
    "    for b_idx in basis:\n",
    "        if phase == 1 and b_idx >= n_original_vars:\n",
    "            # Индекс искусственной переменной: b_idx - n_original_vars соответствует a1, a2 и т.д.\n",
    "            basis_labels.append(f\"a{b_idx - n_original_vars + 1}\")\n",
    "        else:\n",
    "            # Индекс исходной переменной\n",
    "            basis_labels.append(f\"x{b_idx + 1}\")\n",
    "    df.index = basis_labels\n",
    "\n",
    "    display(df)\n",
    "\n",
    "    # Вычисляем zj и cj-zj\n",
    "    A_current = table[:, :-1] # Матрица A без столбца b\n",
    "    cb = c_costs[basis] # Коэффициенты целевой функции для базисных переменных\n",
    "    # zj = сумма (cb_i * A_row_i) для каждой колонки A\n",
    "    # Используем матричное умножение: cb (1 x m) @ A_current (m x n) = zj (1 x n)\n",
    "    zj = cb @ A_current\n",
    "\n",
    "    # cj-zj = c - zj\n",
    "    # Важно: c_costs должен соответствовать размерности A_current (исключая столбец b)\n",
    "    # Если в Фазе 2 таблица меньше (без искусственных столбцов), c_real имеет правильную размерность\n",
    "    # Если в Фазе 1, c_artificial имеет правильную размерность (включая 0 для исходных и 1 для искусственных)\n",
    "    cj_zj = c_costs - zj\n",
    "\n",
    "    # Печатаем строку cj-zj\n",
    "    print(f\"cj-zj ({'Искусств.' if phase == 1 else 'Исходн.'}):\")\n",
    "    # Печатаем cj-zj с теми же заголовками, что и таблица (кроме 'b')\n",
    "    # Убеждаемся, что размерность cj_zj соответствует заголовкам без 'b'\n",
    "    if len(cj_zj) != len(header) - 1:\n",
    "         # Это может произойти, если table - это таблица Фазы 2, но мы используем c_artificial\n",
    "         # Используем правильные косты для расчета cj_zj\n",
    "         if phase == 2:\n",
    "             cb = c_real[basis]\n",
    "             A_current = table[:, :-1]\n",
    "             zj = cb @ A_current\n",
    "             cj_zj = c_real - zj\n",
    "\n",
    "    cj_zj_output = pd.Series(cj_zj, index=header[:-1])\n",
    "    # Используем to_string() для форматированного вывода numpy array/Series\n",
    "    print(cj_zj_output.to_string())\n",
    "\n",
    "    # Вычисляем текущее значение целевой функции\n",
    "    current_obj_value = cb @ table[:, -1]\n",
    "    obj_label = 'W' if phase == 1 else 'f'\n",
    "    print(f\"Значение {obj_label} в текущей базисной точке: {current_obj_value:.6f}\")\n",
    "\n",
    "# Функция для извлечения координат текущего базисного допустимого решения\n",
    "def get_bfs_coords(table, basis, total_num_vars):\n",
    "    \"\"\"\n",
    "    Извлекает значения всех переменных (базисных и небазисных) для текущего ДБР.\n",
    "    table: numpy array, текущая симплекс-таблица\n",
    "    basis: list of ints, индексы базисных переменных\n",
    "    total_num_vars: int, общее количество переменных (включая искусственные, если применимо)\n",
    "    \"\"\"\n",
    "    # Инициализируем вектор решения нулями\n",
    "    x_coords = np.zeros(total_num_vars)\n",
    "    # Значения базисных переменных берутся из столбца 'b'\n",
    "    # basis[i] - это индекс переменной, которая находится в i-й строке базиса\n",
    "    for i, col_idx in enumerate(basis):\n",
    "         # Убеждаемся, что индекс переменной меньше общего числа переменных, для которых мы строим вектор (например, не искусственные в Фазе 2)\n",
    "         if col_idx < total_num_vars:\n",
    "             x_coords[col_idx] = table[i, -1]\n",
    "    # Небазисные переменные остаются равными 0 (инициализированы как нули)\n",
    "    return x_coords\n",
    "\n",
    "# Функция для выполнения одного шага симплекс-преобразования (пивота)\n",
    "def perform_pivot(table, basis, entering_col_idx, leaving_row_idx):\n",
    "    \"\"\"\n",
    "    Выполняет симплекс-преобразование вокруг опорного элемента.\n",
    "    table: numpy array, симплекс-таблица (обновляется на месте)\n",
    "    basis: list of ints, список индексов базисных переменных (обновляется на месте)\n",
    "    entering_col_idx: int, индекс входящего столбца (опорный столбец)\n",
    "    leaving_row_idx: int, индекс выходящей строки (опорная строка)\n",
    "    \"\"\"\n",
    "    # Опорный элемент - элемент на пересечении опорной строки и опорного столбца\n",
    "    pivot_element = table[leaving_row_idx, entering_col_idx]\n",
    "\n",
    "    # Нормализуем опорную строку: делим все элементы опорной строки на опорный элемент\n",
    "    # Это делает опорный элемент равным 1.\n",
    "    table[leaving_row_idx, :] /= pivot_element\n",
    "\n",
    "    # Обнуляем остальные элементы в опорном столбце\n",
    "    # Для каждой строки, кроме опорной:\n",
    "    for i in range(table.shape[0]):\n",
    "        if i != leaving_row_idx:\n",
    "            # Вычисляем множитель: элемент в текущей строке в опорном столбце\n",
    "            multiplier = table[i, entering_col_idx]\n",
    "            # Выполняем операцию над строками: строка_i = строка_i - множитель * опорная_строка\n",
    "            # Эта операция обнуляет элемент в опорном столбце в текущей строке.\n",
    "            table[i, :] -= multiplier * table[leaving_row_idx, :]\n",
    "\n",
    "    # Обновляем базис: переменная, соответствующая entering_col_idx (входящая переменная), входит в базис\n",
    "    # на место переменной, которая была базисной в leaving_row_idx строке (выходящая переменная).\n",
    "    basis[leaving_row_idx] = entering_col_idx\n",
    "\n",
    "    # table и basis модифицированы на месте, возвращаем для явности\n",
    "    return table, basis"
   ]
  },
  {
   "cell_type": "markdown",
   "id": "phase1",
   "metadata": {},
   "source": [
    "\n",
    "## Шаг 1: Метод искусственного базиса (Фаза 1)\n",
    "\n",
    "Цель Фазы 1 - найти допустимое базисное решение для исходной задачи. Если исходная задача имеет допустимые решения, минимальное значение вспомогательной целевой функции будет равно нулю ($W_{min}=0$). Если $W_{min} > 0$, то исходная задача не имеет допустимых решений.\n",
    "\n",
    "Для реализации метода вводим по одной искусственной переменной для каждого ограничения-равенства, не имеющего базисной переменной (переменной с единичным столбцом). В данном случае, ни одно из исходных ограничений не имеет готовой базисной переменной, поэтому вводим две искусственные переменные: $a_1$ для первого уравнения и $a_2$ для второго.\n",
    "\n",
    "Ограничения вспомогательной задачи:\n",
    "$$-x1 + 4x2 - x3 + 13x4 + 16x5 + a_1 = -1 \\\\\n",
    "-10x1 + 12x2 + 20x3 + 23x4 + a_2 = -8$$\n",
    "\n",
    "Обратите внимание на отрицательные правые части. Для приведения системы к виду с неотрицательными правыми частями, умножим оба уравнения на -1:\n",
    "\n",
    "$$x1 - 4x2 + x3 - 13x4 - 16x5 = 1 \\\\\n",
    "10x1 - 12x2 - 20x3 - 23x4 = 8$$\n",
    "\n",
    "Теперь оба правых части неотрицательны. Введем искусственные переменные $a_1$ и $a_2$ в эту модифицированную систему:\n",
    "\n",
    "$$\n",
    "\\begin{cases}\n",
    "x1 - 4x2 + x3 - 13x4 - 16x5 + a_1 = 1 \\\\\n",
    "10x1 - 12x2 - 20x3 - 23x4 + a_2 = 8\n",
    "\\end{cases}\n",
    "$$\n",
    "\n",
    "Вспомогательная целевая функция: $W = a_1 + a_2$. Мы минимизируем $W$. Коэффициенты $c_W = [0, 0, 0, 0, 0, 1, 1]$ для переменных $x1, x2, x3, x4, x5, a_1, a_2$.\n",
    "\n",
    "Расширенная матрица ограничений с искусственными переменными $A_{ext}$ и вектор правых частей $b_{ext}$ формируют начальную симплекс-таблицу Фазы 1."
   ]
  },
  {
   "cell_type": "code",
   "execution_count": 9,
   "id": "phase1_setup",
   "metadata": {},
   "outputs": [
    {
     "data": {
      "text/markdown": [
       "### Начальная симплекс-таблица для Фазы 1"
      ],
      "text/plain": [
       "<IPython.core.display.Markdown object>"
      ]
     },
     "metadata": {},
     "output_type": "display_data"
    },
    {
     "data": {
      "text/html": [
       "<div>\n",
       "<style scoped>\n",
       "    .dataframe tbody tr th:only-of-type {\n",
       "        vertical-align: middle;\n",
       "    }\n",
       "\n",
       "    .dataframe tbody tr th {\n",
       "        vertical-align: top;\n",
       "    }\n",
       "\n",
       "    .dataframe thead th {\n",
       "        text-align: right;\n",
       "    }\n",
       "</style>\n",
       "<table border=\"1\" class=\"dataframe\">\n",
       "  <thead>\n",
       "    <tr style=\"text-align: right;\">\n",
       "      <th></th>\n",
       "      <th>x1</th>\n",
       "      <th>x2</th>\n",
       "      <th>x3</th>\n",
       "      <th>x4</th>\n",
       "      <th>x5</th>\n",
       "      <th>a1</th>\n",
       "      <th>a2</th>\n",
       "      <th>b</th>\n",
       "    </tr>\n",
       "  </thead>\n",
       "  <tbody>\n",
       "    <tr>\n",
       "      <th>a1</th>\n",
       "      <td>-1.000000</td>\n",
       "      <td>4.000000</td>\n",
       "      <td>-1.000000</td>\n",
       "      <td>13.000000</td>\n",
       "      <td>16.000000</td>\n",
       "      <td>1.000000</td>\n",
       "      <td>0.000000</td>\n",
       "      <td>-1.000000</td>\n",
       "    </tr>\n",
       "    <tr>\n",
       "      <th>a2</th>\n",
       "      <td>10.000000</td>\n",
       "      <td>-12.000000</td>\n",
       "      <td>-20.000000</td>\n",
       "      <td>-23.000000</td>\n",
       "      <td>0.000000</td>\n",
       "      <td>0.000000</td>\n",
       "      <td>1.000000</td>\n",
       "      <td>8.000000</td>\n",
       "    </tr>\n",
       "  </tbody>\n",
       "</table>\n",
       "</div>"
      ],
      "text/plain": [
       "          x1         x2         x3         x4        x5       a1       a2  \\\n",
       "a1 -1.000000   4.000000  -1.000000  13.000000 16.000000 1.000000 0.000000   \n",
       "a2 10.000000 -12.000000 -20.000000 -23.000000  0.000000 0.000000 1.000000   \n",
       "\n",
       "           b  \n",
       "a1 -1.000000  \n",
       "a2  8.000000  "
      ]
     },
     "metadata": {},
     "output_type": "display_data"
    },
    {
     "name": "stdout",
     "output_type": "stream",
     "text": [
      "cj-zj (Искусств.):\n",
      "x1    -9.000000\n",
      "x2     8.000000\n",
      "x3    21.000000\n",
      "x4    10.000000\n",
      "x5   -16.000000\n",
      "a1     0.000000\n",
      "a2     0.000000\n",
      "Значение W в текущей базисной точке: 7.000000\n"
     ]
    }
   ],
   "source": [
    "# Матрица ограничений A с учетом умножения второго уравнения на -1 для неотрицательной правой части\n",
    "A_modified = np.array([\n",
    "    [-1, 4, -1, 13, 16],    # Первое уравнение (не изменено)\n",
    "    [10, -12, -20, -23, 0]   # Второе уравнение умножено на -1 (x5 term is 0)\n",
    "])\n",
    "\n",
    "# Вектор правых частей b с учетом умножения второго уравнения на -1\n",
    "b_modified = np.array([-1, 8]) # Правая часть второго уравнения изменена н  -1, 8\n",
    "\n",
    "# Расширенная матрица A с искусственными переменными (добавляем единичную матрицу справа к A_modified)\n",
    "A_ext = np.hstack([A_modified, np.eye(n_constraints)])\n",
    "\n",
    "# Вектор правых частей b (преобразуем в столбец для удобства в таблице)\n",
    "b_ext = b_modified.reshape(-1, 1)\n",
    "\n",
    "# Начальная симплекс-таблица для Фазы 1 (объединяем A_ext и b_ext)\n",
    "table_phase1 = np.hstack([A_ext, b_ext])\n",
    "\n",
    "basis_phase1 = list(range(n_original_vars, n_original_vars + n_constraints)) # \n",
    "\n",
    "\n",
    "c_artificial = np.array([0] * n_original_vars + [1] * n_constraints)\n",
    "\n",
    "display(Markdown(\"### Начальная симплекс-таблица для Фазы 1\"))\n",
    "# Печатаем начальную таблицу, используя копии, чтобы не изменить исходные данные для повторного запуска ячейки\n",
    "# Передаем правильное количество переменных для Фазы 1 в print_simplex_table\n",
    "# Для корректного отображения заголовков и расчета cj-zj в print_simplex_table, передаем общее количество переменных в Фазе 1\n",
    "\n",
    "# Добавляем n_original_vars как глобальную переменную или передаем ее в print_simplex_table, если она нужна там для заголовков\n",
    "# n_original_vars уже определена и доступна\n",
    "\n",
    "print_simplex_table(table_phase1.copy(), basis_phase1.copy(), c_artificial, phase=1)"
   ]
  },
  {
   "cell_type": "markdown",
   "id": "phase1_iterations",
   "metadata": {},
   "source": [
    "### Итерации симплекс-метома для Фазы 1\n",
    "\n",
    "Применяем симплекс-метод для минимизации $W = a_1 + a_2$. Процесс останавливается, когда все значения в строке $cj-zj$ для небазисных переменных становятся неотрицательными. Если в этот момент $W=0$ и все искусственные переменные равны нулю (неважно, базисные они или небазисные), найдено допустимое решение исходной задачи. Если $W_{min} > 0$, то исходная задача не имеет допустимых решений."
   ]
  },
  {
   "cell_type": "code",
   "execution_count": 10,
   "id": "run_phase1",
   "metadata": {},
   "outputs": [
    {
     "data": {
      "text/markdown": [
       "#### Итерация 1 Фазы 1"
      ],
      "text/plain": [
       "<IPython.core.display.Markdown object>"
      ]
     },
     "metadata": {},
     "output_type": "display_data"
    },
    {
     "data": {
      "text/markdown": [
       "Текущий базис: a1, a2"
      ],
      "text/plain": [
       "<IPython.core.display.Markdown object>"
      ]
     },
     "metadata": {},
     "output_type": "display_data"
    },
    {
     "data": {
      "text/markdown": [
       "Текущая угловая точка (включая искусственные): (x1=0.000000, x2=0.000000, x3=0.000000, x4=0.000000, x5=0.000000, a1=-1.000000, a2=8.000000)"
      ],
      "text/plain": [
       "<IPython.core.display.Markdown object>"
      ]
     },
     "metadata": {},
     "output_type": "display_data"
    },
    {
     "data": {
      "text/html": [
       "<div>\n",
       "<style scoped>\n",
       "    .dataframe tbody tr th:only-of-type {\n",
       "        vertical-align: middle;\n",
       "    }\n",
       "\n",
       "    .dataframe tbody tr th {\n",
       "        vertical-align: top;\n",
       "    }\n",
       "\n",
       "    .dataframe thead th {\n",
       "        text-align: right;\n",
       "    }\n",
       "</style>\n",
       "<table border=\"1\" class=\"dataframe\">\n",
       "  <thead>\n",
       "    <tr style=\"text-align: right;\">\n",
       "      <th></th>\n",
       "      <th>x1</th>\n",
       "      <th>x2</th>\n",
       "      <th>x3</th>\n",
       "      <th>x4</th>\n",
       "      <th>x5</th>\n",
       "      <th>a1</th>\n",
       "      <th>a2</th>\n",
       "      <th>b</th>\n",
       "    </tr>\n",
       "  </thead>\n",
       "  <tbody>\n",
       "    <tr>\n",
       "      <th>a1</th>\n",
       "      <td>-1.000000</td>\n",
       "      <td>4.000000</td>\n",
       "      <td>-1.000000</td>\n",
       "      <td>13.000000</td>\n",
       "      <td>16.000000</td>\n",
       "      <td>1.000000</td>\n",
       "      <td>0.000000</td>\n",
       "      <td>-1.000000</td>\n",
       "    </tr>\n",
       "    <tr>\n",
       "      <th>a2</th>\n",
       "      <td>10.000000</td>\n",
       "      <td>-12.000000</td>\n",
       "      <td>-20.000000</td>\n",
       "      <td>-23.000000</td>\n",
       "      <td>0.000000</td>\n",
       "      <td>0.000000</td>\n",
       "      <td>1.000000</td>\n",
       "      <td>8.000000</td>\n",
       "    </tr>\n",
       "  </tbody>\n",
       "</table>\n",
       "</div>"
      ],
      "text/plain": [
       "          x1         x2         x3         x4        x5       a1       a2  \\\n",
       "a1 -1.000000   4.000000  -1.000000  13.000000 16.000000 1.000000 0.000000   \n",
       "a2 10.000000 -12.000000 -20.000000 -23.000000  0.000000 0.000000 1.000000   \n",
       "\n",
       "           b  \n",
       "a1 -1.000000  \n",
       "a2  8.000000  "
      ]
     },
     "metadata": {},
     "output_type": "display_data"
    },
    {
     "name": "stdout",
     "output_type": "stream",
     "text": [
      "cj-zj (Искусств.):\n",
      "x1    -9.000000\n",
      "x2     8.000000\n",
      "x3    21.000000\n",
      "x4    10.000000\n",
      "x5   -16.000000\n",
      "a1     0.000000\n",
      "a2     0.000000\n",
      "Значение W в текущей базисной точке: 7.000000\n"
     ]
    },
    {
     "data": {
      "text/markdown": [
       "Входит переменная: x5 (cj-zj = -16.000000)"
      ],
      "text/plain": [
       "<IPython.core.display.Markdown object>"
      ]
     },
     "metadata": {},
     "output_type": "display_data"
    },
    {
     "data": {
      "text/markdown": [
       "Выходит переменная: a1 (мин. отношение = -0.062500)"
      ],
      "text/plain": [
       "<IPython.core.display.Markdown object>"
      ]
     },
     "metadata": {},
     "output_type": "display_data"
    },
    {
     "data": {
      "text/markdown": [
       "#### Итерация 2 Фазы 1"
      ],
      "text/plain": [
       "<IPython.core.display.Markdown object>"
      ]
     },
     "metadata": {},
     "output_type": "display_data"
    },
    {
     "data": {
      "text/markdown": [
       "Текущий базис: x5, a2"
      ],
      "text/plain": [
       "<IPython.core.display.Markdown object>"
      ]
     },
     "metadata": {},
     "output_type": "display_data"
    },
    {
     "data": {
      "text/markdown": [
       "Текущая угловая точка (включая искусственные): (x1=0.000000, x2=0.000000, x3=0.000000, x4=0.000000, x5=-0.062500, a1=0.000000, a2=8.000000)"
      ],
      "text/plain": [
       "<IPython.core.display.Markdown object>"
      ]
     },
     "metadata": {},
     "output_type": "display_data"
    },
    {
     "data": {
      "text/html": [
       "<div>\n",
       "<style scoped>\n",
       "    .dataframe tbody tr th:only-of-type {\n",
       "        vertical-align: middle;\n",
       "    }\n",
       "\n",
       "    .dataframe tbody tr th {\n",
       "        vertical-align: top;\n",
       "    }\n",
       "\n",
       "    .dataframe thead th {\n",
       "        text-align: right;\n",
       "    }\n",
       "</style>\n",
       "<table border=\"1\" class=\"dataframe\">\n",
       "  <thead>\n",
       "    <tr style=\"text-align: right;\">\n",
       "      <th></th>\n",
       "      <th>x1</th>\n",
       "      <th>x2</th>\n",
       "      <th>x3</th>\n",
       "      <th>x4</th>\n",
       "      <th>x5</th>\n",
       "      <th>a1</th>\n",
       "      <th>a2</th>\n",
       "      <th>b</th>\n",
       "    </tr>\n",
       "  </thead>\n",
       "  <tbody>\n",
       "    <tr>\n",
       "      <th>x5</th>\n",
       "      <td>-0.062500</td>\n",
       "      <td>0.250000</td>\n",
       "      <td>-0.062500</td>\n",
       "      <td>0.812500</td>\n",
       "      <td>1.000000</td>\n",
       "      <td>0.062500</td>\n",
       "      <td>0.000000</td>\n",
       "      <td>-0.062500</td>\n",
       "    </tr>\n",
       "    <tr>\n",
       "      <th>a2</th>\n",
       "      <td>10.000000</td>\n",
       "      <td>-12.000000</td>\n",
       "      <td>-20.000000</td>\n",
       "      <td>-23.000000</td>\n",
       "      <td>0.000000</td>\n",
       "      <td>0.000000</td>\n",
       "      <td>1.000000</td>\n",
       "      <td>8.000000</td>\n",
       "    </tr>\n",
       "  </tbody>\n",
       "</table>\n",
       "</div>"
      ],
      "text/plain": [
       "          x1         x2         x3         x4       x5       a1       a2  \\\n",
       "x5 -0.062500   0.250000  -0.062500   0.812500 1.000000 0.062500 0.000000   \n",
       "a2 10.000000 -12.000000 -20.000000 -23.000000 0.000000 0.000000 1.000000   \n",
       "\n",
       "           b  \n",
       "x5 -0.062500  \n",
       "a2  8.000000  "
      ]
     },
     "metadata": {},
     "output_type": "display_data"
    },
    {
     "name": "stdout",
     "output_type": "stream",
     "text": [
      "cj-zj (Искусств.):\n",
      "x1   -10.000000\n",
      "x2    12.000000\n",
      "x3    20.000000\n",
      "x4    23.000000\n",
      "x5     0.000000\n",
      "a1     1.000000\n",
      "a2     0.000000\n",
      "Значение W в текущей базисной точке: 8.000000\n"
     ]
    },
    {
     "data": {
      "text/markdown": [
       "Входит переменная: x1 (cj-zj = -10.000000)"
      ],
      "text/plain": [
       "<IPython.core.display.Markdown object>"
      ]
     },
     "metadata": {},
     "output_type": "display_data"
    },
    {
     "data": {
      "text/markdown": [
       "Выходит переменная: a2 (мин. отношение = 0.800000)"
      ],
      "text/plain": [
       "<IPython.core.display.Markdown object>"
      ]
     },
     "metadata": {},
     "output_type": "display_data"
    },
    {
     "data": {
      "text/markdown": [
       "#### Итерация 3 Фазы 1"
      ],
      "text/plain": [
       "<IPython.core.display.Markdown object>"
      ]
     },
     "metadata": {},
     "output_type": "display_data"
    },
    {
     "data": {
      "text/markdown": [
       "Текущий базис: x5, x1"
      ],
      "text/plain": [
       "<IPython.core.display.Markdown object>"
      ]
     },
     "metadata": {},
     "output_type": "display_data"
    },
    {
     "data": {
      "text/markdown": [
       "Текущая угловая точка (включая искусственные): (x1=0.800000, x2=0.000000, x3=0.000000, x4=0.000000, x5=-0.012500, a1=0.000000, a2=0.000000)"
      ],
      "text/plain": [
       "<IPython.core.display.Markdown object>"
      ]
     },
     "metadata": {},
     "output_type": "display_data"
    },
    {
     "data": {
      "text/html": [
       "<div>\n",
       "<style scoped>\n",
       "    .dataframe tbody tr th:only-of-type {\n",
       "        vertical-align: middle;\n",
       "    }\n",
       "\n",
       "    .dataframe tbody tr th {\n",
       "        vertical-align: top;\n",
       "    }\n",
       "\n",
       "    .dataframe thead th {\n",
       "        text-align: right;\n",
       "    }\n",
       "</style>\n",
       "<table border=\"1\" class=\"dataframe\">\n",
       "  <thead>\n",
       "    <tr style=\"text-align: right;\">\n",
       "      <th></th>\n",
       "      <th>x1</th>\n",
       "      <th>x2</th>\n",
       "      <th>x3</th>\n",
       "      <th>x4</th>\n",
       "      <th>x5</th>\n",
       "      <th>a1</th>\n",
       "      <th>a2</th>\n",
       "      <th>b</th>\n",
       "    </tr>\n",
       "  </thead>\n",
       "  <tbody>\n",
       "    <tr>\n",
       "      <th>x5</th>\n",
       "      <td>0.000000</td>\n",
       "      <td>0.175000</td>\n",
       "      <td>-0.187500</td>\n",
       "      <td>0.668750</td>\n",
       "      <td>1.000000</td>\n",
       "      <td>0.062500</td>\n",
       "      <td>0.006250</td>\n",
       "      <td>-0.012500</td>\n",
       "    </tr>\n",
       "    <tr>\n",
       "      <th>x1</th>\n",
       "      <td>1.000000</td>\n",
       "      <td>-1.200000</td>\n",
       "      <td>-2.000000</td>\n",
       "      <td>-2.300000</td>\n",
       "      <td>0.000000</td>\n",
       "      <td>0.000000</td>\n",
       "      <td>0.100000</td>\n",
       "      <td>0.800000</td>\n",
       "    </tr>\n",
       "  </tbody>\n",
       "</table>\n",
       "</div>"
      ],
      "text/plain": [
       "         x1        x2        x3        x4       x5       a1       a2         b\n",
       "x5 0.000000  0.175000 -0.187500  0.668750 1.000000 0.062500 0.006250 -0.012500\n",
       "x1 1.000000 -1.200000 -2.000000 -2.300000 0.000000 0.000000 0.100000  0.800000"
      ]
     },
     "metadata": {},
     "output_type": "display_data"
    },
    {
     "name": "stdout",
     "output_type": "stream",
     "text": [
      "cj-zj (Искусств.):\n",
      "x1   0.000000\n",
      "x2   0.000000\n",
      "x3   0.000000\n",
      "x4   0.000000\n",
      "x5   0.000000\n",
      "a1   1.000000\n",
      "a2   1.000000\n",
      "Значение W в текущей базисной точке: 0.000000\n"
     ]
    },
    {
     "data": {
      "text/markdown": [
       "##### Оптимум для искусственной задачи достигнут."
      ],
      "text/plain": [
       "<IPython.core.display.Markdown object>"
      ]
     },
     "metadata": {},
     "output_type": "display_data"
    },
    {
     "data": {
      "text/markdown": [
       "### Результат Фазы 1"
      ],
      "text/plain": [
       "<IPython.core.display.Markdown object>"
      ]
     },
     "metadata": {},
     "output_type": "display_data"
    },
    {
     "data": {
      "text/markdown": [
       "Минимальное значение искусственной целевой функции W = 0.000000"
      ],
      "text/plain": [
       "<IPython.core.display.Markdown object>"
      ]
     },
     "metadata": {},
     "output_type": "display_data"
    },
    {
     "data": {
      "text/markdown": [
       "Найден допустимый базис для исходной задачи (W=0 и все искусственные переменные равны 0)."
      ],
      "text/plain": [
       "<IPython.core.display.Markdown object>"
      ]
     },
     "metadata": {},
     "output_type": "display_data"
    },
    {
     "data": {
      "text/markdown": [
       "Успешно определен допустимый базис для исходной задачи."
      ],
      "text/plain": [
       "<IPython.core.display.Markdown object>"
      ]
     },
     "metadata": {},
     "output_type": "display_data"
    },
    {
     "data": {
      "text/markdown": [
       "Переход к Фазе 2."
      ],
      "text/plain": [
       "<IPython.core.display.Markdown object>"
      ]
     },
     "metadata": {},
     "output_type": "display_data"
    }
   ],
   "source": [
    "table = table_phase1.copy() # Работаем с копией начальной таблицы Фазы 1\n",
    "basis = basis_phase1.copy() # Работаем с копией списка базиса Фазы 1\n",
    "c_current_phase = c_artificial # Косты для Фазы 1\n",
    "total_vars_phase1 = n_original_vars + n_constraints # Общее количество переменных в Фазе 1 (x1-x5, a1, a2)\n",
    "\n",
    "iteration_artificial = 0\n",
    "while True:\n",
    "    iteration_artificial += 1\n",
    "    display(Markdown(f\"#### Итерация {iteration_artificial} Фазы 1\"))\n",
    "\n",
    "    # 1. Вычисляем cj-zj\n",
    "    A_current = table[:, :-1] # Извлекаем матрицу A без столбца 'b'\n",
    "    cb = c_current_phase[basis] # Извлекаем косты базисных переменных\n",
    "    zj = cb @ A_current # Вычисляем вектор zj\n",
    "    cj_zj = c_current_phase - zj # Вычисляем вектор cj-zj\n",
    "\n",
    "    # Выводим текущую информацию: базис, текущая точка, таблица, cj-zj\n",
    "    display(Markdown(\"Текущий базис: \" + \", \".join([f\"x{i+1}\" if i < n_original_vars else f\"a{i - n_original_vars + 1}\" for i in basis])))\n",
    "    # Получаем координаты всех переменных (x1-x5, a1, a2) для текущей угловой точки\n",
    "    current_bfs = get_bfs_coords(table, basis, total_vars_phase1)\n",
    "    # Форматируем вывод координат, включая искусственные переменные\n",
    "    coords_str = \", \".join([f\"x{i+1}={current_bfs[i]:.6f}\" for i in range(n_original_vars)]) + \", \" + \", \".join([f\"a{i+1}={current_bfs[n_original_vars + i]:.6f}\" for i in range(n_constraints)])\n",
    "    display(Markdown(\"Текущая угловая точка (включая искусственные): (\" + coords_str + \")\"))\n",
    "\n",
    "    # Печатаем текущую таблицу с cj-zj строкой и значением W\n",
    "    print_simplex_table(table, basis, c_current_phase, phase=1)\n",
    "\n",
    "    # 2. Проверка на оптимальность Фазы 1 (все cj-zj >= 0 для минимизации)\n",
    "    # Используем допуск для сравнения с нулем из-за ошибок плавающей точки.\n",
    "    if all(cj_zj >= -1e-9): # Если все cj-zj неотрицательны (с учетом допуска)\n",
    "        display(Markdown(\"##### Оптимум для искусственной задачи достигнут.\"))\n",
    "        break # Выходим из цикла Фазы 1\n",
    "\n",
    "    # 3. Выбор входящей переменной (наиболее отрицательный cj-zj)\n",
    "    # Ищем индекс столбца с минимальным (наиболее отрицательным) значением в строке cj-zj.\n",
    "    # Исключаем столбец 'b' из рассмотрения\n",
    "    entering_col_idx = np.argmin(cj_zj[:-1]) # Ищем среди cj-zj для переменных, не для 'b'\n",
    "\n",
    "    # Если минимальное значение >= 0 (может быть из-за допуска), то фактически оптимум достигнут.\n",
    "    if cj_zj[entering_col_idx] >= -1e-9:\n",
    "         display(Markdown(\"##### Оптимум для искусственной задачи достигнут (проверка с допуском). Выход.\"))\n",
    "         break # Выходим, если фактически оптимально по cj-zj\n",
    "\n",
    "    # Определяем имя входящей переменной (x1..x5 или a1..a2)\n",
    "    entering_var_name = f\"x{entering_col_idx + 1}\" if entering_col_idx < n_original_vars else f\"a{entering_col_idx - n_original_vars + 1}\"\n",
    "    display(Markdown(f\"Входит переменная: {entering_var_name} (cj-zj = {cj_zj[entering_col_idx]:.6f})\"))\n",
    "\n",
    "    # 4. Выбор выходящей переменной (минимальное неотрицательное отношение)\n",
    "    ratios = []\n",
    "    pivot_column = table[:, entering_col_idx] # Столбец входящей переменной (опорный столбец)\n",
    "    b_column = table[:, -1] # Столбец правых частей 'b'\n",
    "\n",
    "    # Вычисляем отношения b_i / a_ij для a_ij > 0\n",
    "    # Рассматриваем только положительные элементы в опорном столбце (с допуском).\n",
    "    # Если a_ij > 0, отношение b_i / a_ij показывает, насколько можно увеличить входящую\n",
    "    # переменную, прежде чем базисная переменная в этой строке станет отрицательной.\n",
    "    for i in range(n_constraints):\n",
    "        if pivot_column[i] > 1e-9:\n",
    "            ratios.append(b_column[i] / pivot_column[i])\n",
    "        else:\n",
    "            # Если элемент <= 0, отношение бесконечно (эта строка не ограничивает рост входящей переменной).\n",
    "            ratios.append(np.inf)\n",
    "\n",
    "    # Проверка на неограниченность (все отношения бесконечны).\n",
    "    # Если все отношения inf, значит, целевую функцию W можно неограниченно уменьшать,\n",
    "    # что для Фазы 1 означает отсутствие допустимых решений у исходной задачи.\n",
    "    if all(r == np.inf for r in ratios):\n",
    "        display(Markdown(\"##### Задача искусственного базиса неограничена. Исходная задача не имеет допустимых решений.\"))\n",
    "        # В реальной ситуации здесь нужно завершить выполнение программы.\n",
    "        # raise SystemExit(\"Исходная задача не имеет допустимых решений.\")\n",
    "        unbounded_phase1 = True # Устанавливаем флаг неограниченности в Фазе 1\n",
    "        break # Выходим из цикла\n",
    "\n",
    "    # Ищем индекс строки с минимальным отношением. Это будет опорная строка.\n",
    "    # Переменная, базисная в этой строке, выйдет из базиса.\n",
    "    leaving_row_idx = np.argmin(ratios)\n",
    "    # Индекс переменной, которая выйдет из базиса (это базисная переменная в опорной строке)\n",
    "    leaving_col_idx = basis[leaving_row_idx]\n",
    "\n",
    "    # Определяем имя выходящей переменной (x1..x5 или a1..a2)\n",
    "    leaving_var_name = f\"x{leaving_col_idx + 1}\" if leaving_col_idx < n_original_vars else f\"a{leaving_col_idx - n_original_vars + 1}\"\n",
    "    display(Markdown(f\"Выходит переменная: {leaving_var_name} (мин. отношение = {ratios[leaving_row_idx]:.6f})\"))\n",
    "\n",
    "    # 5. Выполнение симплекс-преобразования (пивота)\n",
    "    # Преобразуем таблицу и обновляем список базиса в соответствии с входящей и выходящей переменными.\n",
    "    table, basis = perform_pivot(table, basis, entering_col_idx, leaving_row_idx)\n",
    "\n",
    "\n",
    "display(Markdown(\"### Результат Фазы 1\"))\n",
    "\n",
    "# Проверяем минимальное значение искусственной целевой функции W\n",
    "cb_final_phase1 = c_current_phase[basis] # Косты базисных переменных в финальном базисе Фазы 1\n",
    "W_final = cb_final_phase1 @ table[:, -1] # Значение W в финальной точке\n",
    "\n",
    "display(Markdown(f\"Минимальное значение искусственной целевой функции W = {W_final:.6f}\"))\n",
    "\n",
    "table_phase2 = None # Инициализируем таблицу для Фазы 2 как None по умолчанию\n",
    "basis_phase2 = [] # Инициализируем базис для Фазы 2\n",
    "feasible_solution_found = False # Флаг наличия допустимого решения исходной задачи\n",
    "\n",
    "# Если W = 0 (с учетом допуска), исходная задача допустима\n",
    "if abs(W_final) < 1e-9:\n",
    "    # Проверяем, не остались ли искусственные переменные в базисе со значением > 0\n",
    "    artificial_vars_indices = list(range(n_original_vars, n_original_vars + n_constraints))\n",
    "    artificial_vars_in_basis = [b for b in basis if b in artificial_vars_indices]\n",
    "\n",
    "    # Если все искусственные переменные равны 0 (с учетом допуска), независимо от того, базисные они или нет\n",
    "    # (Небазисные искусственные переменные всегда равны 0. Важно проверить базисные искусственные).\n",
    "    artificial_vars_are_zero = True\n",
    "    for var_idx in artificial_vars_in_basis:\n",
    "        # Находим строку, где эта искусственная переменная базисная\n",
    "        # Искусственная переменная может быть в базисе со значением 0 (вырожденность)\n",
    "        row_idx_in_basis_list = basis.index(var_idx)\n",
    "        if abs(table[row_idx_in_basis_list, -1]) >= 1e-9:\n",
    "            artificial_vars_are_zero = False\n",
    "            break\n",
    "\n",
    "    if artificial_vars_are_zero:\n",
    "        display(Markdown(\"Найден допустимый базис для исходной задачи (W=0 и все искусственные переменные равны 0).\"))\n",
    "        feasible_solution_found = True\n",
    "\n",
    "        # Готовим таблицу и базис для Фазы 2\n",
    "        # Удаляем столбцы искусственных переменных из таблицы Фазы 1\n",
    "        cols_to_keep = list(range(n_original_vars)) + [-1] # Столбцы x1..x5 и столбец b\n",
    "        table_phase2 = table[:, cols_to_keep].copy() # Работаем с копией\n",
    "\n",
    "        # Формируем базис для Фазы 2: это те же базисные переменные, что и в конце Фазы 1,\n",
    "        # но только те, которые являются исходными переменными (с индексами < n_original_vars).\n",
    "        # Список basis из Фазы 1 уже содержит индексы базисных переменных по строкам.\n",
    "        # Сохраняем только те индексы из списка basis Фазы 1, которые соответствуют исходным переменным.\n",
    "        basis_phase2 = [b for b in basis if b < n_original_vars]\n",
    "\n",
    "        # Если искусственная переменная осталась в базисе со значением 0, она вытесняется исходной переменной\n",
    "        # с единичным столбцом в финальной таблице Фазы 1 (после удаления столбцов искусственных переменных).\n",
    "        # Нужно убедиться, что базис_фазы2 соответствует единичным столбцам в table_phase2.\n",
    "        # Простой способ: найти единичные столбцы в table_phase2 и назначить соответствующие переменные базисными.\n",
    "\n",
    "        basis_phase2_corrected = []\n",
    "        identity_matrix = np.eye(n_constraints)\n",
    "\n",
    "        for i in range(n_constraints):\n",
    "            # Ищем строку в table_phase2, которая соответствует i-й строке единичной матрицы\n",
    "            # Ищем столбец в table_phase2 (без столбца 'b'), который равен i-му столбцу единичной матрицы\n",
    "            is_identity_col = np.all(np.isclose(table_phase2[:, :-1], identity_matrix[:, i].reshape(-1, 1), atol=1e-9), axis=0)\n",
    "            identity_col_idx = np.where(is_identity_col)[0]\n",
    "\n",
    "            if len(identity_col_idx) == 1:\n",
    "                 # Найден единичный столбец. Индекс переменной - это индекс этого столбца\n",
    "                 basis_phase2_corrected.append(identity_col_idx[0])\n",
    "            else:\n",
    "                 # Если единичный столбец не найден (может быть при вырожденности или ошибке)\n",
    "                 # Попробуем найти столбец, соответствующий переменной из базиса Фазы 1 (если она исходная)\n",
    "                 # Этот случай сложнее и требует более детального анализа вырожденности.\n",
    "                 # Для простоты в данном коде, если не находим идеальный единичный столбец,\n",
    "                 # полагаемся на базис из Фазы 1, но это может быть некорректно при вырожденности.\n",
    "                 # Более надежный подход: определить базис по строкам, где была единица в Фазе 1,\n",
    "                 # и проверить, какая исходная переменная оказалась в этом столбце в table_phase2.\n",
    "                 # Альтернативно, если искусственная переменная осталась в базисе со 0,\n",
    "                 # ее строка должна быть приведена к единичной строке с 0 в столбце искусственной.\n",
    "                 # Переменная в столбце, где ранее была искусственная, может войти в базис.\n",
    "\n",
    "                 # Упрощенная логика: Если базис_фазы2_скорректированный не имеет нужного размера,\n",
    "                 # это указывает на проблему или вырожденность, которую текущий простой код обработки не учитывает.\n",
    "                 display(Markdown(\"Внимание: Не удалось однозначно определить базис для Фазы 2 по единичным столбцам. Возможно, присутствует вырожденность или требуется более сложная логика определения базиса.\"))\n",
    "                 # В случае такой неопределенности, текущий базис_фазы2 из Фазы 1 может быть некорректным.\n",
    "                 # Для продолжения, попробуем использовать базис из Фазы 1, но результат может быть неверным.\n",
    "                 # Лучше остановиться или реализовать болееRobust обработку вырожденности.\n",
    "                 basis_phase2_corrected = basis_phase2 # Возвращаемся к базису из Фазы 1 как запасной вариант\n",
    "                 break # Выходим из цикла поиска базиса\n",
    "\n",
    "        # Проверяем, что количество базисных переменных исходной задачи равно числу ограничений\n",
    "        if len(basis_phase2_corrected) == n_constraints:\n",
    "            basis_phase2 = basis_phase2_corrected\n",
    "            display(Markdown(\"Успешно определен допустимый базис для исходной задачи.\"))\n",
    "        else:\n",
    "             display(Markdown(\"Внимание: Количество базисных переменных исходной задачи не равно числу ограничений после попытки коррекции базиса. Исходная задача может не иметь допустимых решений или присутствует вырожденность, требующая специальной обработки.\"))\n",
    "             # В этом случае, возможно, задача не имеет допустимых решений, несмотря на W=0.\n",
    "             feasible_solution_found = False # Сбрасываем флаг, если базис некорректен\n",
    "             table_phase2 = None # Сбрасываем таблицу Фазы 2\n",
    "\n",
    "    else:\n",
    "         display(Markdown(\"##### Искусственные переменные остались в базисе со значением > 0. Исходная задача не имеет допустимых решений.\"))\n",
    "         # table_phase2 остается None, указывая на недопустимость исходной задачи.\n",
    "\n",
    "elif 'unbounded_phase1' in locals() and unbounded_phase1:\n",
    "     display(Markdown(\"##### Задача искусственного базиса неограничена. Исходная задача не имеет допустимых решений.\"))\n",
    "     # feasible_solution_found остается False\n",
    "\n",
    "else: # Если W_final > 0\n",
    "    display(Markdown(\"##### Минимальное значение W > 0. Исходная задача не имеет допустимых решений.\"))\n",
    "    # feasible_solution_found остается False\n",
    "\n",
    "# Если допустимое решение найдено на Фазе 1, переходим к Фазе 2\n",
    "if feasible_solution_found:\n",
    "    display(Markdown(\"Переход к Фазе 2.\"))"
   ]
  },
  {
   "cell_type": "markdown",
   "id": "phase2",
   "metadata": {},
   "source": [
    "## Шаг 2: Стандартный симплекс-метод (Фаза 2)\n",
    "\n",
    "Если на Фазе 1 было найдено допустимое базисное решение (т.е., $W_{min}=0$ и все искусственные переменные равны нулю), переходим к Фазе 2. Начинаем с финальной таблицы Фазы 1 (без столбцов искусственных переменных) и исходной целевой функции $f$. Применяем стандартный симплекс-метод для минимизации $f$. Начальный базис для Фазы 2 берется из базиса, полученного в конце Фазы 1, исключая искусственные переменные и корректируя индексы."
   ]
  },
  {
   "cell_type": "code",
   "execution_count": 11,
   "id": "run_phase2",
   "metadata": {},
   "outputs": [
    {
     "data": {
      "text/markdown": [
       "### Начальная симплекс-таблица для Фазы 2"
      ],
      "text/plain": [
       "<IPython.core.display.Markdown object>"
      ]
     },
     "metadata": {},
     "output_type": "display_data"
    },
    {
     "data": {
      "text/markdown": [
       "Таблица после удаления столбцов искусственных переменных из финальной таблицы Фазы 1. Базис скорректирован для соответствия исходным переменным."
      ],
      "text/plain": [
       "<IPython.core.display.Markdown object>"
      ]
     },
     "metadata": {},
     "output_type": "display_data"
    },
    {
     "data": {
      "text/html": [
       "<div>\n",
       "<style scoped>\n",
       "    .dataframe tbody tr th:only-of-type {\n",
       "        vertical-align: middle;\n",
       "    }\n",
       "\n",
       "    .dataframe tbody tr th {\n",
       "        vertical-align: top;\n",
       "    }\n",
       "\n",
       "    .dataframe thead th {\n",
       "        text-align: right;\n",
       "    }\n",
       "</style>\n",
       "<table border=\"1\" class=\"dataframe\">\n",
       "  <thead>\n",
       "    <tr style=\"text-align: right;\">\n",
       "      <th></th>\n",
       "      <th>x1</th>\n",
       "      <th>x2</th>\n",
       "      <th>x3</th>\n",
       "      <th>x4</th>\n",
       "      <th>x5</th>\n",
       "      <th>b</th>\n",
       "    </tr>\n",
       "  </thead>\n",
       "  <tbody>\n",
       "    <tr>\n",
       "      <th>x5</th>\n",
       "      <td>0.000000</td>\n",
       "      <td>0.175000</td>\n",
       "      <td>-0.187500</td>\n",
       "      <td>0.668750</td>\n",
       "      <td>1.000000</td>\n",
       "      <td>-0.012500</td>\n",
       "    </tr>\n",
       "    <tr>\n",
       "      <th>x1</th>\n",
       "      <td>1.000000</td>\n",
       "      <td>-1.200000</td>\n",
       "      <td>-2.000000</td>\n",
       "      <td>-2.300000</td>\n",
       "      <td>0.000000</td>\n",
       "      <td>0.800000</td>\n",
       "    </tr>\n",
       "  </tbody>\n",
       "</table>\n",
       "</div>"
      ],
      "text/plain": [
       "         x1        x2        x3        x4       x5         b\n",
       "x5 0.000000  0.175000 -0.187500  0.668750 1.000000 -0.012500\n",
       "x1 1.000000 -1.200000 -2.000000 -2.300000 0.000000  0.800000"
      ]
     },
     "metadata": {},
     "output_type": "display_data"
    },
    {
     "name": "stdout",
     "output_type": "stream",
     "text": [
      "cj-zj (Исходн.):\n",
      "x1    0.000000\n",
      "x2    8.650000\n",
      "x3   21.375000\n",
      "x4   26.662500\n",
      "x5    0.000000\n",
      "Значение f в текущей базисной точке: 7.975000\n"
     ]
    },
    {
     "data": {
      "text/markdown": [
       "### Итерации симплекс-метода для исходной задачи"
      ],
      "text/plain": [
       "<IPython.core.display.Markdown object>"
      ]
     },
     "metadata": {},
     "output_type": "display_data"
    },
    {
     "data": {
      "text/markdown": [
       "#### Итерация 1 Фазы 2"
      ],
      "text/plain": [
       "<IPython.core.display.Markdown object>"
      ]
     },
     "metadata": {},
     "output_type": "display_data"
    },
    {
     "data": {
      "text/markdown": [
       "Текущий базис: x5, x1"
      ],
      "text/plain": [
       "<IPython.core.display.Markdown object>"
      ]
     },
     "metadata": {},
     "output_type": "display_data"
    },
    {
     "data": {
      "text/markdown": [
       "Текущая угловая точка: [0.800000 0.000000 0.000000 0.000000 -0.012500]"
      ],
      "text/plain": [
       "<IPython.core.display.Markdown object>"
      ]
     },
     "metadata": {},
     "output_type": "display_data"
    },
    {
     "data": {
      "text/html": [
       "<div>\n",
       "<style scoped>\n",
       "    .dataframe tbody tr th:only-of-type {\n",
       "        vertical-align: middle;\n",
       "    }\n",
       "\n",
       "    .dataframe tbody tr th {\n",
       "        vertical-align: top;\n",
       "    }\n",
       "\n",
       "    .dataframe thead th {\n",
       "        text-align: right;\n",
       "    }\n",
       "</style>\n",
       "<table border=\"1\" class=\"dataframe\">\n",
       "  <thead>\n",
       "    <tr style=\"text-align: right;\">\n",
       "      <th></th>\n",
       "      <th>x1</th>\n",
       "      <th>x2</th>\n",
       "      <th>x3</th>\n",
       "      <th>x4</th>\n",
       "      <th>x5</th>\n",
       "      <th>b</th>\n",
       "    </tr>\n",
       "  </thead>\n",
       "  <tbody>\n",
       "    <tr>\n",
       "      <th>x5</th>\n",
       "      <td>0.000000</td>\n",
       "      <td>0.175000</td>\n",
       "      <td>-0.187500</td>\n",
       "      <td>0.668750</td>\n",
       "      <td>1.000000</td>\n",
       "      <td>-0.012500</td>\n",
       "    </tr>\n",
       "    <tr>\n",
       "      <th>x1</th>\n",
       "      <td>1.000000</td>\n",
       "      <td>-1.200000</td>\n",
       "      <td>-2.000000</td>\n",
       "      <td>-2.300000</td>\n",
       "      <td>0.000000</td>\n",
       "      <td>0.800000</td>\n",
       "    </tr>\n",
       "  </tbody>\n",
       "</table>\n",
       "</div>"
      ],
      "text/plain": [
       "         x1        x2        x3        x4       x5         b\n",
       "x5 0.000000  0.175000 -0.187500  0.668750 1.000000 -0.012500\n",
       "x1 1.000000 -1.200000 -2.000000 -2.300000 0.000000  0.800000"
      ]
     },
     "metadata": {},
     "output_type": "display_data"
    },
    {
     "name": "stdout",
     "output_type": "stream",
     "text": [
      "cj-zj (Исходн.):\n",
      "x1    0.000000\n",
      "x2    8.650000\n",
      "x3   21.375000\n",
      "x4   26.662500\n",
      "x5    0.000000\n",
      "Значение f в текущей базисной точке: 7.975000\n"
     ]
    },
    {
     "data": {
      "text/markdown": [
       "##### Оптимум для исходной задачи достигнут."
      ],
      "text/plain": [
       "<IPython.core.display.Markdown object>"
      ]
     },
     "metadata": {},
     "output_type": "display_data"
    }
   ],
   "source": [
    "# Проверяем, была ли найдена допустимая точка на Фазе 1 (т.е., feasible_solution_found установлен в True)\n",
    "if 'feasible_solution_found' in locals() and feasible_solution_found and table_phase2 is not None:\n",
    "\n",
    "    table = table_phase2.copy() # Используем таблицу без искусственных переменных\n",
    "    basis = basis_phase2.copy() # Используем базис, полученный корректно из Фазы 1 (индексы исходных переменных)\n",
    "    c_current_phase = c_real # Косты для Фазы 2 - исходная целевая функция\n",
    "    total_vars_phase2 = n_original_vars # Количество переменных в Фазе 2 (x1-x5)\n",
    "\n",
    "    display(Markdown(\"### Начальная симплекс-таблица для Фазы 2\"))\n",
    "    display(Markdown(\"Таблица после удаления столбцов искусственных переменных из финальной таблицы Фазы 1. Базис скорректирован для соответствия исходным переменным.\"))\n",
    "    # Пересчитываем cj-zj для исходной целевой функции\n",
    "    # print_simplex_table ожидает базис, соответствующий строкам текущей таблицы\n",
    "    print_simplex_table(table.copy(), basis.copy(), c_current_phase, phase=2)\n",
    "\n",
    "    display(Markdown(\"### Итерации симплекс-метода для исходной задачи\"))\n",
    "\n",
    "    iteration_real = 0\n",
    "    optimal = False # Флаг оптимальности\n",
    "    unbounded = False # Флаг неограниченности снизу\n",
    "\n",
    "    # Продолжаем итерации до достижения оптимальности или обнаружения неограниченности\n",
    "    while not optimal and not unbounded:\n",
    "        iteration_real += 1\n",
    "        display(Markdown(f\"#### Итерация {iteration_real} Фазы 2\"))\n",
    "\n",
    "        # 1. Вычисляем cj-zj для исходной целевой функции\n",
    "        A_current = table[:, :-1]\n",
    "        cb = c_current_phase[basis]\n",
    "        zj = cb @ A_current\n",
    "        cj_zj = c_current_phase - zj # c_real имеет размерность n_original_vars\n",
    "\n",
    "        # Выводим текущую информацию: базис, текущая точка, таблица, cj-zj\n",
    "        display(Markdown(\"Текущий базис: \" + \", \".join([f\"x{i+1}\" for i in basis])))\n",
    "        # Получаем координаты всех исходных переменных (x1-x5) для текущей угловой точки\n",
    "        current_bfs = get_bfs_coords(table, basis, total_vars_phase2)\n",
    "        display(Markdown(\"Текущая угловая точка: \" + str(current_bfs)))\n",
    "        # Печатаем текущую таблицу с cj-zj строкой и значением f\n",
    "        print_simplex_table(table, basis, c_current_phase, phase=2)\n",
    "\n",
    "        # 2. Проверка на оптимальность Фазы 2 (все cj-zj >= 0 для минимизации)\n",
    "        # Если все cj-zj неотрицательны (с учетом допуска), текущее решение оптимально.\n",
    "        # Ищем только среди cj-zj для небазисных переменных\n",
    "        non_basic_indices = [i for i in range(total_vars_phase2) if i not in basis]\n",
    "        if all(cj_zj[non_basic_indices] >= -1e-9): # Проверяем только небазисные переменные\n",
    "            display(Markdown(\"##### Оптимум для исходной задачи достигнут.\"))\n",
    "            optimal = True\n",
    "            break # Выходим из цикла Фазы 2\n",
    "\n",
    "        # 3. Выбор входящей переменной (наиболее отрицательный cj-zj)\n",
    "        # Ищем индекс столбца среди небазисных переменных с минимальным (наиболее отрицательным) значением в строке cj-zj.\n",
    "        # Находим индексы cj-zj для небазисных переменных\n",
    "        cj_zj_non_basic = cj_zj[non_basic_indices]\n",
    "        # Находим индекс минимального элемента среди небазисных cj-zj\n",
    "        min_cj_zj_non_basic_idx = np.argmin(cj_zj_non_basic)\n",
    "        # Получаем глобальный индекс входящего столбца\n",
    "        entering_col_idx = non_basic_indices[min_cj_zj_non_basic_idx]\n",
    "\n",
    "        # Если минимальное значение >= 0 (может быть из-за допуска), то фактически оптимум достигнут.\n",
    "        if cj_zj[entering_col_idx] >= -1e-9:\n",
    "             display(Markdown(\"##### Оптимум для исходной задачи достигнут (проверка с допуском). Выход.\"))\n",
    "             optimal = True\n",
    "             break # Выходим, если фактически оптимально по cj-zj\n",
    "\n",
    "        display(Markdown(f\"Входит переменная: x{entering_col_idx + 1} (cj-zj = {cj_zj[entering_col_idx]:.6f})\"))\n",
    "\n",
    "        # 4. Выбор выходящей переменной (минимальное неотрицательное отношение)\n",
    "        ratios = []\n",
    "        pivot_column = table[:, entering_col_idx] # Столбец входящей переменной (опорный столбец)\n",
    "        b_column = table[:, -1] # Столбец правых частей 'b'\n",
    "\n",
    "        # Вычисляем отношения b_i / a_ij для a_ij > 0\n",
    "        # Минимальное отношение определяет строку, соответствующую выходящей переменной.\n",
    "        for i in range(n_constraints):\n",
    "            # Только положительные элементы в опорном столбце (с допуском) могут быть опорными.\n",
    "            if pivot_column[i] > 1e-9:\n",
    "                ratios.append(b_column[i] / pivot_column[i])\n",
    "            else:\n",
    "                # Если элемент <= 0, отношение бесконечно (строка не ограничивает рост входящей переменной).\n",
    "                ratios.append(np.inf)\n",
    "\n",
    "        # Проверка на неограниченность снизу исходной задачи\n",
    "        # Если все отношения бесконечны, целевую функцию f можно неограниченно уменьшать.\n",
    "        if all(r == np.inf for r in ratios):\n",
    "             display(Markdown(\"##### Исходная задача неограничена снизу.\"))\n",
    "             unbounded = True # Устанавливаем флаг неограниченности\n",
    "             break # Выходим из цикла Фазы 2\n",
    "\n",
    "        # Ищем индекс строки с минимальным отношением. Это будет опорная строка.\n",
    "        # Переменная, базисная в этой строке, выйдет из базиса.\n",
    "        # Учитываем возможные небольшие отрицательные значения из-за ошибок округления\n",
    "        # При выборе минимального отношения игнорируем отрицательные отношения\n",
    "        valid_ratios = [ratios[i] if ratios[i] >= -1e-9 else np.inf for i in range(len(ratios))]\n",
    "\n",
    "        # Если все отношения оказались inf после фильтрации (т.е., не было положительных элементов в опорном столбце)\n",
    "        if all(r == np.inf for r in valid_ratios):\n",
    "             display(Markdown(\"##### Исходная задача неограничена снизу (нет положительных элементов в опорном столбце).\"))\n",
    "             unbounded = True\n",
    "             break\n",
    "\n",
    "        leaving_row_idx = np.argmin(valid_ratios)\n",
    "\n",
    "        # Индекс переменной, которая выйдет из базиса (это базисная переменная в опорной строке)\n",
    "        leaving_col_idx = basis[leaving_row_idx]\n",
    "\n",
    "        display(Markdown(f\"Выходит переменная: x{leaving_col_idx + 1} (мин. отношение = {valid_ratios[leaving_row_idx]:.6f})\"))\n",
    "\n",
    "        # 5. Выполнение симплекс-преобразования (пивота)\n",
    "        # Преобразуем таблицу и обновляем список базиса в соответствии с входящей и выходящей переменными.\n",
    "        table, basis = perform_pivot(table, basis, entering_col_idx, leaving_row_idx)\n",
    "\n",
    "\n",
    "# Если Фаза 1 не нашла допустимого решения, этот блок кода не выполнится.\n",
    "else:\n",
    "    display(Markdown(\"Фаза 2 пропущена, так как на Фазе 1 было показано, что задача не имеет допустимых решений.\"))"
   ]
  },
  {
   "cell_type": "markdown",
   "id": "result",
   "metadata": {},
   "source": [
    "## Итог\n",
    "\n",
    "Анализируем результат работы симплекс-метода."
   ]
  },
  {
   "cell_type": "code",
   "execution_count": 12,
   "id": "final_result",
   "metadata": {},
   "outputs": [
    {
     "data": {
      "text/markdown": [
       "### Оптимальное решение найдено"
      ],
      "text/plain": [
       "<IPython.core.display.Markdown object>"
      ]
     },
     "metadata": {},
     "output_type": "display_data"
    },
    {
     "data": {
      "text/markdown": [
       "#### Координаты оптимальной угловой точки (значения $x_1, ..., x_5$)"
      ],
      "text/plain": [
       "<IPython.core.display.Markdown object>"
      ]
     },
     "metadata": {},
     "output_type": "display_data"
    },
    {
     "data": {
      "text/markdown": [
       "$$x^* = (x_1=0.800000, x_2=0.000000, x_3=0.000000, x_4=0.000000, x_5=-0.012500)$$"
      ],
      "text/plain": [
       "<IPython.core.display.Markdown object>"
      ]
     },
     "metadata": {},
     "output_type": "display_data"
    },
    {
     "name": "stdout",
     "output_type": "stream",
     "text": [
      "Координаты оптимальной точки: [0.800000 0.000000 0.000000 0.000000 -0.012500]\n"
     ]
    },
    {
     "data": {
      "text/markdown": [
       "#### Значение целевой функции в оптимальной точке"
      ],
      "text/plain": [
       "<IPython.core.display.Markdown object>"
      ]
     },
     "metadata": {},
     "output_type": "display_data"
    },
    {
     "data": {
      "text/markdown": [
       "$$f(x^*) = 7.975000$$"
      ],
      "text/plain": [
       "<IPython.core.display.Markdown object>"
      ]
     },
     "metadata": {},
     "output_type": "display_data"
    },
    {
     "name": "stdout",
     "output_type": "stream",
     "text": [
      "Значение целевой функции: 7.975\n"
     ]
    },
    {
     "data": {
      "text/markdown": [
       "## Визуализация"
      ],
      "text/plain": [
       "<IPython.core.display.Markdown object>"
      ]
     },
     "metadata": {},
     "output_type": "display_data"
    },
    {
     "data": {
      "text/markdown": [
       "Для данной задачи с 5 переменными, допустимое множество является выпуклым многогранником в 5-мерном пространстве, определенным двумя плоскостями (ограничения-равенства) и гранями, соответствующими условиям неотрицательности ($x_i \\ge 0$). Прямое графическое отображение допустимого множества или поверхности целевой функции невозможно в 2D или 3D."
      ],
      "text/plain": [
       "<IPython.core.display.Markdown object>"
      ]
     },
     "metadata": {},
     "output_type": "display_data"
    },
    {
     "data": {
      "text/markdown": [
       "Все промежуточные шаги алгоритма, включая таблицы, текущие базисные решения и критерии оптимальности/неограниченности, были представлены выше в ходе выполнения Фазы 1 и Фазы 2."
      ],
      "text/plain": [
       "<IPython.core.display.Markdown object>"
      ]
     },
     "metadata": {},
     "output_type": "display_data"
    }
   ],
   "source": [
    "# Проверяем результат выполнения Фазы 2 (флаги optimal и unbounded установлены в блоке run_phase2)\n",
    "\n",
    "if 'optimal' in locals() and optimal:\n",
    "    display(Markdown(\"### Оптимальное решение найдено\"))\n",
    "\n",
    "    # Координаты оптимальной угловой точки берутся из финальной таблицы Фазы 2\n",
    "    # table и basis содержат финальное состояние Фазы 2\n",
    "    final_x = get_bfs_coords(table, basis, n_original_vars)\n",
    "\n",
    "    display(Markdown(\"#### Координаты оптимальной угловой точки (значения $x_1, ..., x_5$)\"))\n",
    "    # Красивый вывод координат с форматированием\n",
    "    x_coords_str = \", \".join([f\"x_{i+1}={val:.6f}\" for i, val in enumerate(final_x)])\n",
    "    display(Markdown(f\"$$x^* = ({x_coords_str})$$\"))\n",
    "    print(\"Координаты оптимальной точки:\", final_x)\n",
    "\n",
    "    # Значение целевой функции в оптимальной точке\n",
    "    # Используем исходные коэффициенты целевой функции (c_real)\n",
    "    final_f_val = c_real @ final_x\n",
    "\n",
    "    display(Markdown(\"#### Значение целевой функции в оптимальной точке\"))\n",
    "    display(Markdown(f\"$$f(x^*) = {final_f_val:.6f}$$\"))\n",
    "    print(\"Значение целевой функции:\", final_f_val)\n",
    "\n",
    "elif 'unbounded' in locals() and unbounded:\n",
    "     display(Markdown(\"### Задача неограничена снизу\"))\n",
    "     display(Markdown(\"В ходе Фазы 2 был обнаружен неограниченный столбец с отрицательным cj-zj, что указывает на неограниченность исходной целевой функции снизу на допустимом множестве.\"))\n",
    "\n",
    "elif 'feasible_solution_found' in locals() and not feasible_solution_found:\n",
    "    display(Markdown(\"### Задача не имеет допустимых решений\"))\n",
    "    display(Markdown(\"На Фазе 1 не было найдено допустимого базисного решения для исходной задачи (минимальное значение искусственной целевой функции > 0 или искусственные переменные остались в базисе с ненулевыми значениями), либо задача искусственного базиса неограничена. Следовательно, допустимое множество исходной задачи пусто.\"))\n",
    "\n",
    "else:\n",
    "    display(Markdown(\"### Решение не найдено\"))\n",
    "    display(Markdown(\"Симплекс-метод не завершился нахождением оптимума или констатацией неограниченности/недопустимости. Проверьте ход выполнения.\"))\n",
    "\n",
    "display(Markdown(\"## Визуализация\"))\n",
    "display(Markdown(\"Для данной задачи с 5 переменными, допустимое множество является выпуклым многогранником в 5-мерном пространстве, определенным двумя плоскостями (ограничения-равенства) и гранями, соответствующими условиям неотрицательности ($x_i \\\\ge 0$). Прямое графическое отображение допустимого множества или поверхности целевой функции невозможно в 2D или 3D.\"))\n",
    "display(Markdown(\"Все промежуточные шаги алгоритма, включая таблицы, текущие базисные решения и критерии оптимальности/неограниченности, были представлены выше в ходе выполнения Фазы 1 и Фазы 2.\"))"
   ]
  }
 ],
 "metadata": {
  "kernelspec": {
   "display_name": "Python 3 (ipykernel)",
   "language": "python",
   "name": "python3"
  },
  "language_info": {
   "codemirror_mode": {
    "name": "ipython",
    "version": 3
   },
   "file_extension": ".py",
   "mimetype": "text/x-python",
   "name": "python",
   "nbconvert_exporter": "python",
   "pygments_lexer": "ipython3",
   "version": "3.12.3"
  }
 },
 "nbformat": 4,
 "nbformat_minor": 5
}
